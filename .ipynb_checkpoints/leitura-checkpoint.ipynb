{
 "cells": [
  {
   "cell_type": "code",
   "execution_count": 1,
   "metadata": {},
   "outputs": [],
   "source": [
    "import os\n",
    "import sys\n",
    "import string\n",
    "import numpy as np\n",
    "import matplotlib.pyplot as plt\n",
    "from sympy import *\n",
    "from qm import*"
   ]
  },
  {
   "cell_type": "code",
   "execution_count": 2,
   "metadata": {},
   "outputs": [
    {
     "name": "stdout",
     "output_type": "stream",
     "text": [
      "---------------\n",
      "i\n"
     ]
    }
   ],
   "source": [
    "temp = open('lion.kiss2')\n",
    "l = []\n",
    "line_char = temp.readlines()\n",
    "l = line_char[5:]\n",
    "#for line in line_char:\n",
    "#    print(line)\n",
    "print(\"---------------\")\n",
    "entrada = line_char[1]\n",
    "#type(entrada)\n",
    "print(entrada[1:2])"
   ]
  },
  {
   "cell_type": "code",
   "execution_count": 3,
   "metadata": {},
   "outputs": [
    {
     "name": "stdout",
     "output_type": "stream",
     "text": [
      "00 00\n",
      "00 00\n",
      "00 01\n",
      "01 01\n",
      "01 00\n",
      "01 10\n",
      "10 10\n",
      "10 01\n",
      "10 11\n",
      "11 11\n",
      "11 10\n",
      "---------------\n",
      "['-000000', '1100000', '010001-', '0-01011', '1101000', '1001101', '1-10101', '0010011', '0110111', '0-11111', '1111101']\n"
     ]
    }
   ],
   "source": [
    "#exemplo utilizando o arquivo lion.kiss2\n",
    "temp = open('lion.kiss2')\n",
    "l = []\n",
    "entrada = []\n",
    "saida = []\n",
    "\n",
    "atual = []\n",
    "atual_inteiro = []\n",
    "entrada_convertida = []\n",
    "\n",
    "proximo = []\n",
    "proximo_inteiro = []\n",
    "proximo_convertido = []\n",
    "ums = []\n",
    "\n",
    "line_char = temp.readlines()\n",
    "l = line_char[5:]\n",
    "for i in range(len(l)):\n",
    "    entrada = l[i].split()[0]\n",
    "    saida = l[i].split()[3]\n",
    "    atual = l[i].split()[1]\n",
    "    proximo = l[i].split()[2]\n",
    "    atual_inteiro = int(atual[2])\n",
    "    proximo_inteiro = int(proximo[2])\n",
    "    #print(valor_inteiro)\n",
    "    entrada_convertida = \"{0:{fill}2b}\".format(atual_inteiro,fill='0')\n",
    "    proximo_convertido = \"{0:{fill}2b}\".format(proximo_inteiro,fill='0')\n",
    "    #print(entrada_convertida,proximo_convertido)\n",
    "    linha = entrada+entrada_convertida+proximo_convertido+saida\n",
    "    ums.append(linha)\n",
    "    print(entrada_convertida, proximo_convertido)\n",
    "print(\"---------------\")\n",
    "\n",
    "print(ums)\n"
   ]
  },
  {
   "cell_type": "code",
   "execution_count": 4,
   "metadata": {},
   "outputs": [],
   "source": [
    " qm = QuineMcCluskey()"
   ]
  },
  {
   "cell_type": "code",
   "execution_count": 5,
   "metadata": {},
   "outputs": [
    {
     "data": {
      "text/plain": [
       "{'-000000',\n",
       " '0-01011',\n",
       " '0-11111',\n",
       " '0010011',\n",
       " '010001-',\n",
       " '0110111',\n",
       " '1-10101',\n",
       " '1001101',\n",
       " '110-000',\n",
       " '1111101'}"
      ]
     },
     "execution_count": 5,
     "metadata": {},
     "output_type": "execute_result"
    }
   ],
   "source": [
    "#teste = ['0001', '0010', '0101', '0110', '1001', '1010', '1101', '1110']\n",
    "qm.simplify_los(ums)"
   ]
  },
  {
   "cell_type": "code",
   "execution_count": 6,
   "metadata": {},
   "outputs": [],
   "source": [
    "#for line in l:\n",
    "#    print(line)"
   ]
  },
  {
   "cell_type": "code",
   "execution_count": 7,
   "metadata": {},
   "outputs": [
    {
     "data": {
      "text/latex": [
       "$\\displaystyle \\left(a \\wedge \\neg d\\right) \\vee \\left(c \\wedge \\neg a \\wedge \\neg b\\right)$"
      ],
      "text/plain": [
       "(a & ~d) | (c & ~a & ~b)"
      ]
     },
     "execution_count": 7,
     "metadata": {},
     "output_type": "execute_result"
    }
   ],
   "source": [
    "#exemplo do slide\n",
    "from sympy.logic import SOPform\n",
    "from sympy import symbols \n",
    "a, b, c, d = symbols('a b c d')\n",
    "minterms = [[0,0,1,1], [0,0,1,0], [1,1,0,0], [1,0,0,0], [1,0,1,0],[1,1,1,0]]\n",
    "SOPform([a,b,c,d], minterms)"
   ]
  },
  {
   "cell_type": "code",
   "execution_count": 8,
   "metadata": {},
   "outputs": [
    {
     "name": "stdout",
     "output_type": "stream",
     "text": [
      "0b1001\n"
     ]
    },
    {
     "data": {
      "text/plain": [
       "str"
      ]
     },
     "execution_count": 8,
     "metadata": {},
     "output_type": "execute_result"
    }
   ],
   "source": [
    "c = bin(9)\n",
    "print(c)\n",
    "type(c)"
   ]
  },
  {
   "cell_type": "code",
   "execution_count": 9,
   "metadata": {},
   "outputs": [],
   "source": [
    "#convertido = np.binary_repr(1)\n",
    "#type(int(convertido))\n",
    "#convertido = int(convertido)\n",
    "#print(convertido)\n",
    "#type(convertido)\n",
    "\n",
    "#\"{0:{fill}2b}\".format(valor,fill='0')"
   ]
  },
  {
   "cell_type": "code",
   "execution_count": 10,
   "metadata": {},
   "outputs": [
    {
     "name": "stdout",
     "output_type": "stream",
     "text": [
      "--010000000000\n",
      "--100000000000\n",
      "--000000000000\n",
      "00110000000000\n",
      "-1110000000100\n",
      "10110000010000\n",
      "--010001000100\n",
      "--100001000100\n",
      "--000001000100\n",
      "00110001000000\n",
      "-1110001001000\n",
      "10110001010000\n",
      "--010010001000\n",
      "--100010001000\n",
      "--000010001000\n",
      "00110010000100\n",
      "-1110010001100\n",
      "10110010010000\n",
      "--010011001110\n",
      "--100011001110\n",
      "--000011001110\n",
      "00110011011100\n",
      "-1110011001110\n",
      "10110011010000\n",
      "--010100010000\n",
      "--100100010000\n",
      "--000100010000\n",
      "00110100000000\n",
      "-1110100000100\n",
      "10110100010100\n",
      "--010101010100\n",
      "--100101010100\n",
      "--000101010100\n",
      "00110101010000\n",
      "-1110101000100\n",
      "10110101011000\n",
      "--010110011001\n",
      "--100110011001\n",
      "--000110011001\n",
      "00110110011100\n",
      "-1110110000100\n",
      "10110110011001\n",
      "--010111011100\n",
      "--100111011100\n",
      "--000111011100\n",
      "00110111100000\n",
      "-1110111000100\n",
      "10110111010000\n",
      "--011000100000\n",
      "--101000100000\n",
      "--001000100000\n",
      "00111000100100\n",
      "-1111000000100\n",
      "10111000010000\n",
      "--011001100100\n",
      "--101001100100\n",
      "--001001100100\n",
      "00111001000000\n",
      "-1111001000100\n",
      "10111001010000\n",
      "---------------\n"
     ]
    }
   ],
   "source": [
    "#exemplo utilizando o arquivo bbara.kiss2\n",
    "temp = open('bbara.kiss2')\n",
    "l = []\n",
    "entrada = []\n",
    "saida = []\n",
    "\n",
    "atual = []\n",
    "atual_inteiro = []\n",
    "entrada_convertida = []\n",
    "\n",
    "proximo = []\n",
    "proximo_inteiro = []\n",
    "proximo_convertido = []\n",
    "doisis = []\n",
    "\n",
    "line_char = temp.readlines()\n",
    "l = line_char[5:]\n",
    "for i in range(len(l)):\n",
    "    entrada = l[i].split()[0]\n",
    "    saida = l[i].split()[3]\n",
    "    atual = l[i].split()[1]\n",
    "    proximo = l[i].split()[2]\n",
    "    atual_inteiro = int(atual[2])\n",
    "    proximo_inteiro = int(proximo[2])\n",
    "    #print(valor_inteiro)\n",
    "    entrada_convertida = \"{0:{fill}4b}\".format(atual_inteiro,fill='0')\n",
    "    proximo_convertido = \"{0:{fill}4b}\".format(proximo_inteiro,fill='0')\n",
    "    #print(entrada_convertida,proximo_convertido)\n",
    "    linha = entrada+entrada_convertida+proximo_convertido+saida\n",
    "    doisis.append(linha)\n",
    "    print(doisis[i])\n",
    "    #print(entrada_convertida, proximo_convertido)\n",
    "print(\"---------------\")\n",
    "\n",
    "#print(doisis)\n"
   ]
  },
  {
   "cell_type": "code",
   "execution_count": 11,
   "metadata": {},
   "outputs": [
    {
     "data": {
      "text/plain": [
       "{'---00000000000',\n",
       " '---00001000100',\n",
       " '---00010001000',\n",
       " '---00011001110',\n",
       " '---00100010000',\n",
       " '---00101010100',\n",
       " '---00110011001',\n",
       " '---00111011100',\n",
       " '---01000100000',\n",
       " '---01001100100',\n",
       " '--0-0000000000',\n",
       " '--0-0001000100',\n",
       " '--0-0010001000',\n",
       " '--0-0011001110',\n",
       " '--0-0100010000',\n",
       " '--0-0101010100',\n",
       " '--0-0110011001',\n",
       " '--0-0111011100',\n",
       " '--0-1000100000',\n",
       " '--0-1001100100',\n",
       " '-1110-00000100',\n",
       " '-1110001001000',\n",
       " '-1110010001100',\n",
       " '-1110011001110',\n",
       " '-11101--000100',\n",
       " '-111100-000100',\n",
       " '0011-001000000',\n",
       " '00110-00000000',\n",
       " '00110010000100',\n",
       " '00110011011100',\n",
       " '00110101010000',\n",
       " '00110110011100',\n",
       " '00110111100000',\n",
       " '00111000100100',\n",
       " '1011-00-010000',\n",
       " '10110-11010000',\n",
       " '101100--010000',\n",
       " '10110100010100',\n",
       " '10110101011000',\n",
       " '10110110011001'}"
      ]
     },
     "execution_count": 11,
     "metadata": {},
     "output_type": "execute_result"
    }
   ],
   "source": [
    "qm.simplify_los(doisis)"
   ]
  },
  {
   "cell_type": "code",
   "execution_count": 12,
   "metadata": {},
   "outputs": [
    {
     "name": "stdout",
     "output_type": "stream",
     "text": [
      "10000000010\n",
      "00000000000\n",
      "00000100000\n",
      "10000100010\n",
      "11000100100\n",
      "10001000010\n",
      "11001000100\n",
      "01001000110\n",
      "11001100101\n",
      "01001100111\n",
      "00001101001\n",
      "01010000111\n",
      "00010001001\n",
      "10010001011\n",
      "00010101001\n",
      "10010101011\n",
      "11010101101\n",
      "10011001011\n",
      "11011001101\n",
      "01011001111\n",
      "11011101101\n",
      "01011101111\n",
      "00011110001\n",
      "01100001111\n",
      "00100010001\n",
      "---------------\n"
     ]
    }
   ],
   "source": [
    "#exemplo utilizando o arquivo lion9.kiss2\n",
    "temp = open('lion9.kiss2')\n",
    "l = []\n",
    "entrada = []\n",
    "saida = []\n",
    "\n",
    "atual = []\n",
    "atual_inteiro = []\n",
    "entrada_convertida = []\n",
    "\n",
    "proximo = []\n",
    "proximo_inteiro = []\n",
    "proximo_convertido = []\n",
    "tresis = []\n",
    "\n",
    "line_char = temp.readlines()\n",
    "l = line_char[5:]\n",
    "for i in range(len(l)):\n",
    "    entrada = l[i].split()[0]\n",
    "    saida = l[i].split()[3]\n",
    "    atual = l[i].split()[1]\n",
    "    proximo = l[i].split()[2]\n",
    "    atual_inteiro = int(atual[2])\n",
    "    proximo_inteiro = int(proximo[2])\n",
    "    #print(valor_inteiro)\n",
    "    entrada_convertida = \"{0:{fill}4b}\".format(atual_inteiro,fill='0')\n",
    "    proximo_convertido = \"{0:{fill}4b}\".format(proximo_inteiro,fill='0')\n",
    "    #print(entrada_convertida,proximo_convertido)\n",
    "    linha = entrada+entrada_convertida+proximo_convertido+saida\n",
    "    tresis.append(linha)\n",
    "    print(tresis[i])\n",
    "    #print(entrada_convertida, proximo_convertido)\n",
    "print(\"---------------\")\n",
    "\n",
    "#print(doisis)\n"
   ]
  },
  {
   "cell_type": "code",
   "execution_count": 13,
   "metadata": {},
   "outputs": [
    {
     "data": {
      "text/plain": [
       "{'00000-00000',\n",
       " '00001101001',\n",
       " '00010-01001',\n",
       " '00011110001',\n",
       " '00100010001',\n",
       " '01001000110',\n",
       " '01001100111',\n",
       " '01010000111',\n",
       " '01011-01111',\n",
       " '01100001111',\n",
       " '1000-000010',\n",
       " '10000-00010',\n",
       " '1001-001011',\n",
       " '10010-01011',\n",
       " '11000100100',\n",
       " '11001000100',\n",
       " '11001100101',\n",
       " '1101-101101',\n",
       " '11011-01101'}"
      ]
     },
     "execution_count": 13,
     "metadata": {},
     "output_type": "execute_result"
    }
   ],
   "source": [
    "qm.simplify_los(tresis)"
   ]
  },
  {
   "cell_type": "code",
   "execution_count": 14,
   "metadata": {},
   "outputs": [
    {
     "name": "stdout",
     "output_type": "stream",
     "text": [
      "3.169925001442312\n"
     ]
    }
   ],
   "source": [
    "resultado = np.log2(9)\n",
    "#type(resultado)\n",
    "print(resultado)"
   ]
  },
  {
   "cell_type": "code",
   "execution_count": 39,
   "metadata": {},
   "outputs": [
    {
     "name": "stdout",
     "output_type": "stream",
     "text": [
      "busca        ['0000', '0001', '0010', '0011', '0100', '0101', '0110', '0111', '1000', '1001', '1010', '1011', '1100', '1101', '1110', '1111']\n",
      "espaco busca ['0000', '0001', '0010', '0011', '0100', '0101', '0110', '0111', '1000', '1001', '1010', '1011', '1100', '1101', '1110', '1111']\n",
      "aleatorio    ['1110', '0001', '0100', '1010', '0110', '1101', '0111', '1001', '0101', '1100', '0011', '1011', '0000', '1000', '0010', '1111']\n",
      "0000 1110\n",
      "0001 0001\n",
      "0010 0100\n",
      "0011 1010\n",
      "0100 0110\n",
      "0101 1101\n",
      "0110 0111\n",
      "0111 1001\n",
      "1000 0101\n",
      "1001 1100\n",
      "1010 0011\n",
      "1011 1011\n",
      "1100 0000\n",
      "1101 1000\n",
      "1110 0010\n",
      "1111 1111\n",
      "['0000 1110', '0001 0001', '0010 0100', '0011 1010', '0100 0110', '0101 1101', '0110 0111', '0111 1001', '1000 0101', '1001 1100', '1010 0011', '1011 1011', '1100 0000', '1101 1000', '1110 0010', '1111 1111']\n",
      "0000 0001\n",
      "0000 0000\n",
      "0001 0000\n",
      "0001 0001\n",
      "0001 0010\n",
      "0010 0001\n",
      "0010 0010\n",
      "0010 0011\n",
      "0011 0010\n",
      "0011 0011\n",
      "0011 0100\n",
      "0100 0011\n",
      "0100 0100\n",
      "0100 0101\n",
      "0101 0100\n",
      "0101 0101\n",
      "0101 0110\n",
      "0110 0101\n",
      "0110 0110\n",
      "0110 0111\n",
      "0111 0110\n",
      "0111 0111\n",
      "0111 1000\n",
      "1000 0111\n",
      "1000 1000\n",
      "0000 0001 --> 1110 0001\n",
      "0000 0000 --> 1110 1110\n",
      "0001 0000 --> 0001 1110\n",
      "0001 0001 --> 0001 0001\n",
      "0001 0010 --> 0001 0100\n",
      "0010 0001 --> 0100 0001\n",
      "0010 0010 --> 0100 0100\n",
      "0010 0011 --> 0100 1010\n",
      "0011 0010 --> 1010 0100\n",
      "0011 0011 --> 1010 1010\n",
      "0011 0100 --> 1010 0110\n",
      "0100 0011 --> 0110 1010\n",
      "0100 0100 --> 0110 0110\n",
      "0100 0101 --> 0110 1101\n",
      "0101 0100 --> 1101 0110\n",
      "0101 0101 --> 1101 1101\n",
      "0101 0110 --> 1101 0111\n",
      "0110 0101 --> 0111 1101\n",
      "0110 0110 --> 0111 0111\n",
      "0110 0111 --> 0111 1001\n",
      "0111 0110 --> 1001 0111\n",
      "0111 0111 --> 1001 1001\n",
      "0111 1000 --> 1001 0101\n",
      "1000 0111 --> 0101 1001\n",
      "1000 1000 --> 0101 0101\n"
     ]
    }
   ],
   "source": [
    "# essa parte faz a criação da MSF com as atribuições permutadas\n",
    "# o ponto importante dessa parte é a transformação da tabela inicial em uma com valores \n",
    "# permutados mantendo a relação estado inicial e próximo estado.\n",
    "import math\n",
    "from random import shuffle\n",
    "temp = open('lion9.kiss2')\n",
    "estados = []\n",
    "line_char = temp.readlines()\n",
    "estados = line_char[4:5]\n",
    "\n",
    "l = line_char[5:]\n",
    "\n",
    "tabela_estados = []\n",
    "tabela_convertida = []\n",
    "nova_tabela_estados = []\n",
    "\n",
    "atual_convertido = []\n",
    "proximo_convertido = []\n",
    "\n",
    "\n",
    "espaco_busca = []\n",
    "espaco_aleatorio = []\n",
    "estados_convertido = int(estados[0].split()[1])\n",
    "tamanho_espaco_busca = math.ceil(np.log2(estados_convertido))\n",
    "#print(tamanho_espaco_busca)\n",
    "#type(estados_convertido)\n",
    "for i in range (tamanho_espaco_busca**2):\n",
    "    espaco_busca.append(bin(i)[2:].zfill(tamanho_espaco_busca))\n",
    "    #espaco_aleatorio.append(bin(i)[2:].zfill(tamanho_espaco_busca))\n",
    "\n",
    "for i in range(len(l)):\n",
    "    atual = l[i].split()[1]\n",
    "    proximo = l[i].split()[2]\n",
    "    atual_inteiro = int(atual[2])\n",
    "    proximo_inteiro = int(proximo[2])\n",
    "    atual_convertido.append(bin(atual_inteiro)[2:].zfill(tamanho_espaco_busca))\n",
    "    proximo_convertido.append(bin(proximo_inteiro)[2:].zfill(tamanho_espaco_busca))\n",
    "    #tabela_estados.append(atual_convertido+\" \"+proximo_convertido)\n",
    "    #print(tabela_estados[i])\n",
    "print(\"busca       \",espaco_busca)\n",
    "espaco_aleatorio = espaco_busca.copy()\n",
    "shuffle(espaco_aleatorio)\n",
    "print(\"espaco busca\", espaco_busca)\n",
    "print(\"aleatorio   \", espaco_aleatorio)\n",
    "\n",
    "for i in range(len(espaco_aleatorio)):\n",
    "    print(espaco_busca[i], espaco_aleatorio[i])\n",
    "    tabela_convertida.append(espaco_busca[i] +\" \"+ espaco_aleatorio[i])\n",
    "\n",
    "print(tabela_convertida)\n",
    "\n",
    "def correspondente(palavra):\n",
    "    for i in range(len(espaco_busca)):\n",
    "        if palavra == espaco_busca[i]:\n",
    "            return espaco_aleatorio[i]\n",
    "\n",
    "novo_atual = []\n",
    "novo_proximo = []\n",
    "        \n",
    "for i in range(len(l)):\n",
    "    print(atual_convertido[i],proximo_convertido[i])\n",
    "    novo_atual.append(correspondente(atual_convertido[i]))\n",
    "    novo_proximo.append(correspondente(proximo_convertido[i]))\n",
    "\n",
    "for i in range(len(l)):\n",
    "    print(atual_convertido[i],proximo_convertido[i], \"-->\",novo_atual[i],novo_proximo[i])"
   ]
  },
  {
   "cell_type": "code",
   "execution_count": null,
   "metadata": {},
   "outputs": [],
   "source": []
  }
 ],
 "metadata": {
  "kernelspec": {
   "display_name": "Python 3",
   "language": "python",
   "name": "python3"
  },
  "language_info": {
   "codemirror_mode": {
    "name": "ipython",
    "version": 3
   },
   "file_extension": ".py",
   "mimetype": "text/x-python",
   "name": "python",
   "nbconvert_exporter": "python",
   "pygments_lexer": "ipython3",
   "version": "3.7.7"
  }
 },
 "nbformat": 4,
 "nbformat_minor": 4
}
