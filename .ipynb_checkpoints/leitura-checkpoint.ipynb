{
 "cells": [
  {
   "cell_type": "code",
   "execution_count": 46,
   "metadata": {},
   "outputs": [],
   "source": [
    "import os\n",
    "import sys\n",
    "import string\n",
    "import numpy as np\n",
    "import matplotlib.pyplot as plt\n",
    "from sympy import *\n",
    "from qm import*"
   ]
  },
  {
   "cell_type": "code",
   "execution_count": 47,
   "metadata": {},
   "outputs": [
    {
     "name": "stdout",
     "output_type": "stream",
     "text": [
      "---------------\n",
      "i\n"
     ]
    }
   ],
   "source": [
    "temp = open('lion.kiss2')\n",
    "l = []\n",
    "line_char = temp.readlines()\n",
    "l = line_char[5:]\n",
    "#for line in line_char:\n",
    "#    print(line)\n",
    "print(\"---------------\")\n",
    "entrada = line_char[1]\n",
    "#type(entrada)\n",
    "print(entrada[1:2])"
   ]
  },
  {
   "cell_type": "code",
   "execution_count": 48,
   "metadata": {},
   "outputs": [
    {
     "name": "stdout",
     "output_type": "stream",
     "text": [
      "00 00\n",
      "00 00\n",
      "00 01\n",
      "01 01\n",
      "01 00\n",
      "01 10\n",
      "10 10\n",
      "10 01\n",
      "10 11\n",
      "11 11\n",
      "11 10\n",
      "---------------\n",
      "['-000000', '1100000', '010001-', '0-01011', '1101000', '1001101', '1-10101', '0010011', '0110111', '0-11111', '1111101']\n"
     ]
    }
   ],
   "source": [
    "#exemplo utilizando o arquivo lion.kiss2\n",
    "temp = open('lion.kiss2')\n",
    "l = []\n",
    "entrada = []\n",
    "saida = []\n",
    "\n",
    "atual = []\n",
    "atual_inteiro = []\n",
    "entrada_convertida = []\n",
    "\n",
    "proximo = []\n",
    "proximo_inteiro = []\n",
    "proximo_convertido = []\n",
    "ums = []\n",
    "\n",
    "line_char = temp.readlines()\n",
    "l = line_char[5:]\n",
    "for i in range(len(l)):\n",
    "    entrada = l[i].split()[0]\n",
    "    saida = l[i].split()[3]\n",
    "    atual = l[i].split()[1]\n",
    "    proximo = l[i].split()[2]\n",
    "    atual_inteiro = int(atual[2])\n",
    "    proximo_inteiro = int(proximo[2])\n",
    "    #print(valor_inteiro)\n",
    "    entrada_convertida = \"{0:{fill}2b}\".format(atual_inteiro,fill='0')\n",
    "    proximo_convertido = \"{0:{fill}2b}\".format(proximo_inteiro,fill='0')\n",
    "    #print(entrada_convertida,proximo_convertido)\n",
    "    linha = entrada+entrada_convertida+proximo_convertido+saida\n",
    "    ums.append(linha)\n",
    "    print(entrada_convertida, proximo_convertido)\n",
    "print(\"---------------\")\n",
    "\n",
    "print(ums)\n"
   ]
  },
  {
   "cell_type": "code",
   "execution_count": 49,
   "metadata": {},
   "outputs": [],
   "source": [
    " qm = QuineMcCluskey()"
   ]
  },
  {
   "cell_type": "code",
   "execution_count": 51,
   "metadata": {},
   "outputs": [
    {
     "data": {
      "text/plain": [
       "{'-000000',\n",
       " '0-01011',\n",
       " '0-11111',\n",
       " '0010011',\n",
       " '010001-',\n",
       " '0110111',\n",
       " '1-10101',\n",
       " '1001101',\n",
       " '110-000',\n",
       " '1111101'}"
      ]
     },
     "execution_count": 51,
     "metadata": {},
     "output_type": "execute_result"
    }
   ],
   "source": [
    "#teste = ['0001', '0010', '0101', '0110', '1001', '1010', '1101', '1110']\n",
    "qm.simplify_los(ums)"
   ]
  },
  {
   "cell_type": "code",
   "execution_count": 40,
   "metadata": {},
   "outputs": [],
   "source": [
    "#for line in l:\n",
    "#    print(line)"
   ]
  },
  {
   "cell_type": "code",
   "execution_count": 41,
   "metadata": {},
   "outputs": [
    {
     "data": {
      "text/latex": [
       "$\\displaystyle \\left(a \\wedge \\neg d\\right) \\vee \\left(c \\wedge \\neg a \\wedge \\neg b\\right)$"
      ],
      "text/plain": [
       "(a & ~d) | (c & ~a & ~b)"
      ]
     },
     "execution_count": 41,
     "metadata": {},
     "output_type": "execute_result"
    }
   ],
   "source": [
    "#exemplo do slide\n",
    "from sympy.logic import SOPform\n",
    "from sympy import symbols \n",
    "a, b, c, d = symbols('a b c d')\n",
    "minterms = [[0,0,1,1], [0,0,1,0], [1,1,0,0], [1,0,0,0], [1,0,1,0],[1,1,1,0]]\n",
    "SOPform([a,b,c,d], minterms)"
   ]
  },
  {
   "cell_type": "code",
   "execution_count": 42,
   "metadata": {},
   "outputs": [
    {
     "name": "stdout",
     "output_type": "stream",
     "text": [
      "0b1001\n"
     ]
    },
    {
     "data": {
      "text/plain": [
       "str"
      ]
     },
     "execution_count": 42,
     "metadata": {},
     "output_type": "execute_result"
    }
   ],
   "source": [
    "c = bin(9)\n",
    "print(c)\n",
    "type(c)"
   ]
  },
  {
   "cell_type": "code",
   "execution_count": 43,
   "metadata": {},
   "outputs": [
    {
     "data": {
      "text/plain": [
       "'1010'"
      ]
     },
     "execution_count": 43,
     "metadata": {},
     "output_type": "execute_result"
    }
   ],
   "source": [
    "#convertido = np.binary_repr(1)\n",
    "#type(int(convertido))\n",
    "#convertido = int(convertido)\n",
    "#print(convertido)\n",
    "#type(convertido)\n",
    "\n",
    "\"{0:{fill}2b}\".format(valor,fill='0')"
   ]
  },
  {
   "cell_type": "code",
   "execution_count": 58,
   "metadata": {},
   "outputs": [
    {
     "name": "stdout",
     "output_type": "stream",
     "text": [
      "--010000000000\n",
      "--100000000000\n",
      "--000000000000\n",
      "00110000000000\n",
      "-1110000000100\n",
      "10110000010000\n",
      "--010001000100\n",
      "--100001000100\n",
      "--000001000100\n",
      "00110001000000\n",
      "-1110001001000\n",
      "10110001010000\n",
      "--010010001000\n",
      "--100010001000\n",
      "--000010001000\n",
      "00110010000100\n",
      "-1110010001100\n",
      "10110010010000\n",
      "--010011001110\n",
      "--100011001110\n",
      "--000011001110\n",
      "00110011011100\n",
      "-1110011001110\n",
      "10110011010000\n",
      "--010100010000\n",
      "--100100010000\n",
      "--000100010000\n",
      "00110100000000\n",
      "-1110100000100\n",
      "10110100010100\n",
      "--010101010100\n",
      "--100101010100\n",
      "--000101010100\n",
      "00110101010000\n",
      "-1110101000100\n",
      "10110101011000\n",
      "--010110011001\n",
      "--100110011001\n",
      "--000110011001\n",
      "00110110011100\n",
      "-1110110000100\n",
      "10110110011001\n",
      "--010111011100\n",
      "--100111011100\n",
      "--000111011100\n",
      "00110111100000\n",
      "-1110111000100\n",
      "10110111010000\n",
      "--011000100000\n",
      "--101000100000\n",
      "--001000100000\n",
      "00111000100100\n",
      "-1111000000100\n",
      "10111000010000\n",
      "--011001100100\n",
      "--101001100100\n",
      "--001001100100\n",
      "00111001000000\n",
      "-1111001000100\n",
      "10111001010000\n",
      "---------------\n"
     ]
    }
   ],
   "source": [
    "#exemplo utilizando o arquivo bbara.kiss2\n",
    "temp = open('bbara.kiss2')\n",
    "l = []\n",
    "entrada = []\n",
    "saida = []\n",
    "\n",
    "atual = []\n",
    "atual_inteiro = []\n",
    "entrada_convertida = []\n",
    "\n",
    "proximo = []\n",
    "proximo_inteiro = []\n",
    "proximo_convertido = []\n",
    "doisis = []\n",
    "\n",
    "line_char = temp.readlines()\n",
    "l = line_char[5:]\n",
    "for i in range(len(l)):\n",
    "    entrada = l[i].split()[0]\n",
    "    saida = l[i].split()[3]\n",
    "    atual = l[i].split()[1]\n",
    "    proximo = l[i].split()[2]\n",
    "    atual_inteiro = int(atual[2])\n",
    "    proximo_inteiro = int(proximo[2])\n",
    "    #print(valor_inteiro)\n",
    "    entrada_convertida = \"{0:{fill}4b}\".format(atual_inteiro,fill='0')\n",
    "    proximo_convertido = \"{0:{fill}4b}\".format(proximo_inteiro,fill='0')\n",
    "    #print(entrada_convertida,proximo_convertido)\n",
    "    linha = entrada+entrada_convertida+proximo_convertido+saida\n",
    "    doisis.append(linha)\n",
    "    print(doisis[i])\n",
    "    #print(entrada_convertida, proximo_convertido)\n",
    "print(\"---------------\")\n",
    "\n",
    "#print(doisis)\n"
   ]
  },
  {
   "cell_type": "code",
   "execution_count": 59,
   "metadata": {},
   "outputs": [
    {
     "data": {
      "text/plain": [
       "{'---00000000000',\n",
       " '---00001000100',\n",
       " '---00010001000',\n",
       " '---00011001110',\n",
       " '---00100010000',\n",
       " '---00101010100',\n",
       " '---00110011001',\n",
       " '---00111011100',\n",
       " '---01000100000',\n",
       " '---01001100100',\n",
       " '--0-0000000000',\n",
       " '--0-0001000100',\n",
       " '--0-0010001000',\n",
       " '--0-0011001110',\n",
       " '--0-0100010000',\n",
       " '--0-0101010100',\n",
       " '--0-0110011001',\n",
       " '--0-0111011100',\n",
       " '--0-1000100000',\n",
       " '--0-1001100100',\n",
       " '-1110-00000100',\n",
       " '-1110001001000',\n",
       " '-1110010001100',\n",
       " '-1110011001110',\n",
       " '-11101--000100',\n",
       " '-111100-000100',\n",
       " '0011-001000000',\n",
       " '00110-00000000',\n",
       " '00110010000100',\n",
       " '00110011011100',\n",
       " '00110101010000',\n",
       " '00110110011100',\n",
       " '00110111100000',\n",
       " '00111000100100',\n",
       " '1011-00-010000',\n",
       " '10110-11010000',\n",
       " '101100--010000',\n",
       " '10110100010100',\n",
       " '10110101011000',\n",
       " '10110110011001'}"
      ]
     },
     "execution_count": 59,
     "metadata": {},
     "output_type": "execute_result"
    }
   ],
   "source": [
    "qm.simplify_los(doisis)"
   ]
  },
  {
   "cell_type": "code",
   "execution_count": null,
   "metadata": {},
   "outputs": [],
   "source": []
  }
 ],
 "metadata": {
  "kernelspec": {
   "display_name": "Python 3",
   "language": "python",
   "name": "python3"
  },
  "language_info": {
   "codemirror_mode": {
    "name": "ipython",
    "version": 3
   },
   "file_extension": ".py",
   "mimetype": "text/x-python",
   "name": "python",
   "nbconvert_exporter": "python",
   "pygments_lexer": "ipython3",
   "version": "3.7.7"
  }
 },
 "nbformat": 4,
 "nbformat_minor": 4
}
