{
 "cells": [
  {
   "cell_type": "code",
   "execution_count": 1,
   "metadata": {},
   "outputs": [],
   "source": [
    "import os\n",
    "import sys\n",
    "import string\n",
    "import numpy as np\n",
    "import matplotlib.pyplot as plt\n",
    "from sympy import *"
   ]
  },
  {
   "cell_type": "code",
   "execution_count": 2,
   "metadata": {},
   "outputs": [
    {
     "name": "stdout",
     "output_type": "stream",
     "text": [
      "\n",
      "\n",
      ".i 2 \n",
      "\n",
      ".o 1 \n",
      "\n",
      ".p 11 \n",
      "\n",
      ".s 4\n",
      "\n",
      "-0 st0 st0 0\n",
      "\n",
      "11 st0 st0 0\n",
      "\n",
      "01 st0 st1 -\n",
      "\n",
      "0- st1 st1 1\n",
      "\n",
      "11 st1 st0 0\n",
      "\n",
      "10 st1 st2 1\n",
      "\n",
      "1- st2 st2 1\n",
      "\n",
      "00 st2 st1 1\n",
      "\n",
      "01 st2 st3 1\n",
      "\n",
      "0- st3 st3 1\n",
      "\n",
      "11 st3 st2 1\n",
      "\n",
      "---------------\n"
     ]
    }
   ],
   "source": [
    "temp = open('lion.kiss2')\n",
    "l = []\n",
    "line_char = temp.readlines()\n",
    "l = line_char[5:]\n",
    "for line in line_char:\n",
    "    print(line)\n",
    "print(\"---------------\")"
   ]
  },
  {
   "cell_type": "code",
   "execution_count": 3,
   "metadata": {},
   "outputs": [],
   "source": [
    "#for line in l:\n",
    "#    print(line)"
   ]
  },
  {
   "cell_type": "code",
   "execution_count": 4,
   "metadata": {},
   "outputs": [
    {
     "data": {
      "text/latex": [
       "$\\displaystyle \\left(a \\wedge \\neg d\\right) \\vee \\left(c \\wedge \\neg a \\wedge \\neg b\\right)$"
      ],
      "text/plain": [
       "(a & ~d) | (c & ~a & ~b)"
      ]
     },
     "execution_count": 4,
     "metadata": {},
     "output_type": "execute_result"
    }
   ],
   "source": [
    "#exemplo do slide\n",
    "from sympy.logic import SOPform\n",
    "from sympy import symbols \n",
    "a, b, c, d = symbols('a b c d')\n",
    "minterms = [[0,0,1,1], [0,0,1,0], [1,1,0,0], [1,0,0,0], [1,0,1,0],[1,1,1,0]]\n",
    "SOPform([a,b,c,d], minterms)"
   ]
  },
  {
   "cell_type": "code",
   "execution_count": 11,
   "metadata": {},
   "outputs": [
    {
     "name": "stdout",
     "output_type": "stream",
     "text": [
      "0b1001\n"
     ]
    },
    {
     "data": {
      "text/plain": [
       "str"
      ]
     },
     "execution_count": 11,
     "metadata": {},
     "output_type": "execute_result"
    }
   ],
   "source": [
    "c = bin(9)\n",
    "print(c)\n",
    "type(c)"
   ]
  },
  {
   "cell_type": "code",
   "execution_count": 16,
   "metadata": {},
   "outputs": [
    {
     "name": "stdout",
     "output_type": "stream",
     "text": [
      "111000010\n"
     ]
    },
    {
     "data": {
      "text/plain": [
       "str"
      ]
     },
     "execution_count": 16,
     "metadata": {},
     "output_type": "execute_result"
    }
   ],
   "source": [
    "convertido = np.binary_repr(450)\n",
    "#type(int(convertido))\n",
    "#convertido = int(convertido)\n",
    "print(convertido)\n",
    "type(convertido)"
   ]
  },
  {
   "cell_type": "code",
   "execution_count": 13,
   "metadata": {},
   "outputs": [],
   "source": [
    "from qm import*"
   ]
  },
  {
   "cell_type": "code",
   "execution_count": 14,
   "metadata": {},
   "outputs": [],
   "source": [
    " qm = QuineMcCluskey()"
   ]
  },
  {
   "cell_type": "code",
   "execution_count": 15,
   "metadata": {},
   "outputs": [
    {
     "ename": "SyntaxError",
     "evalue": "invalid syntax (<ipython-input-15-3e18070a51c8>, line 1)",
     "output_type": "error",
     "traceback": [
      "\u001b[0;36m  File \u001b[0;32m\"<ipython-input-15-3e18070a51c8>\"\u001b[0;36m, line \u001b[0;32m1\u001b[0m\n\u001b[0;31m    qm.\u001b[0m\n\u001b[0m       ^\u001b[0m\n\u001b[0;31mSyntaxError\u001b[0m\u001b[0;31m:\u001b[0m invalid syntax\n"
     ]
    }
   ],
   "source": [
    "qm."
   ]
  }
 ],
 "metadata": {
  "kernelspec": {
   "display_name": "Python 3",
   "language": "python",
   "name": "python3"
  },
  "language_info": {
   "codemirror_mode": {
    "name": "ipython",
    "version": 3
   },
   "file_extension": ".py",
   "mimetype": "text/x-python",
   "name": "python",
   "nbconvert_exporter": "python",
   "pygments_lexer": "ipython3",
   "version": "3.7.7"
  }
 },
 "nbformat": 4,
 "nbformat_minor": 4
}
