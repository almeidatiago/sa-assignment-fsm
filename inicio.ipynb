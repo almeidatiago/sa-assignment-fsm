{
 "cells": [
  {
   "cell_type": "code",
   "execution_count": 1,
   "metadata": {},
   "outputs": [],
   "source": [
    "import os\n",
    "import sys\n",
    "import string\n",
    "import numpy as np\n",
    "import matplotlib.pyplot as plt\n",
    "from sympy import *\n",
    "from qm import*\n",
    "import math\n",
    "from random import shuffle"
   ]
  },
  {
   "cell_type": "code",
   "execution_count": 50,
   "metadata": {},
   "outputs": [
    {
     "name": "stdout",
     "output_type": "stream",
     "text": [
      "80 79\n"
     ]
    }
   ],
   "source": [
    "temp = open('lion9.kiss2')\n",
    "line_char = temp.readlines()\n",
    "l = []\n",
    "entrada = []\n",
    "lista_entradas = []\n",
    "saida = []\n",
    "lista_saidas = []\n",
    "\n",
    "estados = []\n",
    "estados = line_char[4:5]\n",
    "\n",
    "atual = []\n",
    "atual_inteiro = []\n",
    "atual_convertido = []\n",
    "\n",
    "proximo = []\n",
    "proximo_inteiro = []\n",
    "proximo_convertido = []\n",
    "\n",
    "espaco_busca = []\n",
    "espaco_aleatorio = []\n",
    "estados_convertido = int(estados[0].split()[1])\n",
    "\n",
    "tamanho_espaco_busca = math.ceil(np.log2(estados_convertido))\n",
    "\n",
    "\n",
    "msf_pronta = []\n",
    "\n",
    "l = line_char[5:]\n",
    "\n",
    "for i in range(len(l)):\n",
    "    entrada = l[i].split()[0]\n",
    "    lista_entradas.append(entrada)\n",
    "    \n",
    "    atual = l[i].split()[1]\n",
    "    proximo = l[i].split()[2]\n",
    "    saida = l[i].split()[3]\n",
    "    lista_saidas.append(saida)\n",
    "    \n",
    "    atual_inteiro = int(atual[2])\n",
    "    proximo_inteiro = int(proximo[2])\n",
    "    atual_convertido.append(bin(atual_inteiro)[2:].zfill(tamanho_espaco_busca))\n",
    "    #atual_binario = atual_convertido[i]\n",
    "    proximo_convertido.append(bin(proximo_inteiro)[2:].zfill(tamanho_espaco_busca))\n",
    "    #proximo_binario = proximo_convertido[i]\n",
    "    linha = entrada+atual_convertido[i]+proximo_convertido[i]+saida\n",
    "    msf_pronta.append(linha)\n",
    "    #print(msf_pronta[i])\n",
    "\n",
    "#print(msf_pronta)\n",
    "\n",
    "#-------------cria espaço de busca-----------------------------------\n",
    "for i in range (tamanho_espaco_busca**2):\n",
    "    espaco_busca.append(bin(i)[2:].zfill(tamanho_espaco_busca))\n",
    "    #espaco_aleatorio.append(bin(i)[2:].zfill(tamanho_espaco_busca))\n",
    "    \n",
    "espaco_aleatorio = espaco_busca.copy()\n",
    "shuffle(espaco_aleatorio)\n",
    "\n",
    "#---mostra qual o estado correspondete na tabela de estados aleatorios\n",
    "def correspondente(palavra):\n",
    "    for i in range(len(espaco_busca)):\n",
    "        if palavra == espaco_busca[i]:\n",
    "            return espaco_aleatorio[i]\n",
    "\n",
    "novo_atual = []\n",
    "novo_proximo = []\n",
    "nova_msf = []\n",
    "\n",
    "for i in range(len(l)):\n",
    "    #print(atual_convertido[i],proximo_convertido[i])\n",
    "    novo_atual.append(correspondente(atual_convertido[i]))\n",
    "    novo_proximo.append(correspondente(proximo_convertido[i]))\n",
    "    nova_atrib = lista_entradas[i]+novo_atual[i]+novo_proximo[i]+lista_saidas[i]\n",
    "    nova_msf.append(nova_atrib)\n",
    "    \n",
    "\n",
    "    \n",
    "def calculo_peso(lista_1):\n",
    "    contador_implicante = 0\n",
    "    contador_termo = 0\n",
    "    #tamanho_calculo = len(tamanho_espaco_busca)+len(saida)\n",
    "    #para_calculo = lista_l[:tamanho_calculo]\n",
    "    for i in range(len(lista_1)):\n",
    "        contador_termo += 1\n",
    "        for j in range(len(lista_1[i])):\n",
    "            if (lista_1[i][j] == '1'):\n",
    "                contador_implicante += 1\n",
    "    return contador_implicante+contador_termo\n",
    "\n",
    "def prepara_lista(lista):\n",
    "    tamanho_calculo = len(entrada)+len(atual_convertido[1])\n",
    "    para_calculo = []\n",
    "    #print(len(entrada),len(atual_convertido[1]),len(proximo_convertido[1]),len(saida), len(lista[1]))\n",
    "    for i in range(len(lista)):\n",
    "        para_calculo.append(lista[i][tamanho_calculo:])\n",
    "    return calculo_peso(para_calculo)\n",
    "    \n",
    "    \n",
    "print(prepara_lista(msf_pronta),prepara_lista(nova_msf))\n",
    "\n",
    "\n",
    "#for i in range(len(l)):\n",
    "#    print(msf_pronta[i],\"-->\",nova_msf[i])\n"
   ]
  },
  {
   "cell_type": "code",
   "execution_count": 42,
   "metadata": {},
   "outputs": [
    {
     "name": "stdout",
     "output_type": "stream",
     "text": [
      "2 4 4 1 11\n"
     ]
    },
    {
     "data": {
      "text/plain": [
       "80"
      ]
     },
     "execution_count": 42,
     "metadata": {},
     "output_type": "execute_result"
    }
   ],
   "source": [
    "#def calcula_custo(lista):\n",
    "#    for i in range()\n",
    "\n",
    "tamanho_calculo = len(entrada)+len(atual_convertido[1])\n",
    "para_calculo = []\n",
    "print(len(entrada),len(atual_convertido[1]),len(proximo_convertido[1]),len(saida), len(msf_pronta[1]))\n",
    "for i in range(len(msf_pronta)):\n",
    "    para_calculo.append(msf_pronta[i][tamanho_calculo:])\n",
    "#print(para_calculo)\n",
    "calculo_peso(para_calculo)"
   ]
  },
  {
   "cell_type": "code",
   "execution_count": null,
   "metadata": {},
   "outputs": [],
   "source": []
  }
 ],
 "metadata": {
  "kernelspec": {
   "display_name": "Python 3",
   "language": "python",
   "name": "python3"
  },
  "language_info": {
   "codemirror_mode": {
    "name": "ipython",
    "version": 3
   },
   "file_extension": ".py",
   "mimetype": "text/x-python",
   "name": "python",
   "nbconvert_exporter": "python",
   "pygments_lexer": "ipython3",
   "version": "3.7.7"
  }
 },
 "nbformat": 4,
 "nbformat_minor": 4
}
